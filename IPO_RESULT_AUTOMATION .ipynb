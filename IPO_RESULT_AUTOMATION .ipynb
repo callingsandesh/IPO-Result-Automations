{
 "cells": [
  {
   "cell_type": "code",
   "execution_count": null,
   "metadata": {},
   "outputs": [],
   "source": [
    "import pandas as pd\n",
    "import time\n",
    "from selenium import webdriver\n",
    "from selenium.webdriver.common.keys import Keys\n",
    "from selenium.webdriver.support.ui import Select"
   ]
  },
  {
   "cell_type": "markdown",
   "metadata": {},
   "source": [
    "## Select path and index"
   ]
  },
  {
   "cell_type": "code",
   "execution_count": null,
   "metadata": {},
   "outputs": [],
   "source": [
    "file_path=[\"dataset/ms_1.xlsx\",\"dataset/ms_31.xlsx\"]\n",
    "index=5"
   ]
  },
  {
   "cell_type": "markdown",
   "metadata": {},
   "source": [
    "## Program to check the allotment of the file in path"
   ]
  },
  {
   "cell_type": "markdown",
   "metadata": {},
   "source": [
    "https://selenium-python.readthedocs.io/navigating.html\n",
    "Reference from this site"
   ]
  },
  {
   "cell_type": "code",
   "execution_count": null,
   "metadata": {},
   "outputs": [],
   "source": [
    "\n",
    "PATH=\"chromedriver.exe\"\n",
    "driver =webdriver.Chrome(PATH)\n",
    "time.sleep(2.4)\n",
    "website='https://iporesult.cdsc.com.np/'\n",
    "driver.get(website)\n",
    "time.sleep(2.4)\n"
   ]
  },
  {
   "cell_type": "code",
   "execution_count": null,
   "metadata": {},
   "outputs": [],
   "source": [
    "search = driver.find_element_by_id(\"boid\")"
   ]
  },
  {
   "cell_type": "code",
   "execution_count": null,
   "metadata": {},
   "outputs": [],
   "source": [
    "def get_boid(dp,client):\n",
    "    if (dp==\"Imperial\"):\n",
    "        dp=\"13013100\"\n",
    "        dpid=dp+str(client)\n",
    "        \n",
    "        dpid=dpid.replace('\"', '')\n",
    "        \n",
    "        return dpid\n",
    "    elif (dp==\"NMB Capital\"):\n",
    "        dp=\"13011000\"\n",
    "        \n",
    "        dpid=dp+str(client)\n",
    "        dpid=dpid.replace('\"', '')\n",
    "        \n",
    "        return dpid\n",
    "    elif (dp==\"Prabhu Capital Limited\"):\n",
    "        dp=\"13012600\"\n",
    "        dpid=dp+str(client)\n",
    "        dpid=dpid.replace('\"', '')\n",
    "        \n",
    "        return dpid\n",
    "    else:\n",
    "        print(\"finish\")\n",
    "\n",
    "def check_allotment(file_name,index):\n",
    "    data_1=pd.read_excel(file_name)\n",
    "    data_1_dp=data_1['DP']\n",
    "    data_1_client_id=data_1['Client_Id']\n",
    "    boid=[]\n",
    "    for i in range(len(data_1_dp)):\n",
    "        dpid=get_boid(data_1_dp[i],data_1_client_id[i])\n",
    "        boid.append(dpid)\n",
    "    names=data_1['Name']\n",
    "    index_to_select=index\n",
    "\n",
    "    #Create object of the Select class\n",
    "    select = Select(driver.find_element_by_xpath(\"//*[@id='companyShare']\"))\n",
    "    select.select_by_index(index_to_select)\n",
    "    for i in range(len(boid)):\n",
    "        \n",
    "        enter_boid=driver.find_element_by_xpath('//*[@id=\"boid\"]')\n",
    "        enter_boid.send_keys(boid[i])\n",
    "\n",
    "\n",
    "        enter = driver.find_element_by_xpath(\"/html/body/app-root/app-allotment-result/div/div/div/div/form/button\")\n",
    "        enter.send_keys(Keys.ENTER)\n",
    "\n",
    "        time.sleep(5)\n",
    "\n",
    "        driver.find_element_by_xpath('//*[@id=\"boid\"]').clear()\n",
    "\n",
    "\n",
    "        kitta_num= driver.find_element_by_xpath(\"/html/body/app-root/app-allotment-result/div/div/div/div/form/p[2]\")\n",
    "\n",
    "\n",
    "        if not kitta_num.text:\n",
    "            kitta_num=driver.find_element_by_xpath(\"/html/body/app-root/app-allotment-result/div/div/div/div/form/p[1]\")\n",
    "        print(kitta_num.text)\n",
    "        print(names[i])\n",
    "        print(\"---------------\")\n",
    "        \n"
   ]
  },
  {
   "cell_type": "code",
   "execution_count": null,
   "metadata": {},
   "outputs": [],
   "source": [
    "check_allotment(\"dataset/ms_1.xlsx\",index)"
   ]
  },
  {
   "cell_type": "code",
   "execution_count": null,
   "metadata": {},
   "outputs": [],
   "source": [
    "check_allotment(\"dataset/ms_31.xlsx\",index)"
   ]
  }
 ],
 "metadata": {
  "kernelspec": {
   "display_name": "Python 3",
   "language": "python",
   "name": "python3"
  },
  "language_info": {
   "codemirror_mode": {
    "name": "ipython",
    "version": 3
   },
   "file_extension": ".py",
   "mimetype": "text/x-python",
   "name": "python",
   "nbconvert_exporter": "python",
   "pygments_lexer": "ipython3",
   "version": "3.8.5"
  }
 },
 "nbformat": 4,
 "nbformat_minor": 4
}
